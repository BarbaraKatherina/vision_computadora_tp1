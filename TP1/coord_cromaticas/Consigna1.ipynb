{
 "cells": [
  {
   "cell_type": "code",
   "execution_count": null,
   "metadata": {},
   "outputs": [],
   "source": [
    "##Parte 1 (imágenes en /white_patch y /coord_cromaticas):\n",
    "#   1-Implementar el algoritmo de pasaje a coordenadas cromáticas para librarnos de las variaciones de contraste\n",
    "\n",
    "#   2-Implementar el algoritmo White Patch para librarnos de las diferencias de color de iluminación.\n",
    "\n",
    "#   3-Mostrar los resultados obtenidos y analizar las posibles fallas (si es que las hay) en el caso de White \n",
    "\n",
    "#Parte 2:\n",
    "#   1-Para las imágenes img1_tp.png y img2_tp.png leerlas con OpenCV en escala de grisas y visualizarlas.\n",
    "\n",
    "#   2-Elija el numero de bins que crea conveniente y grafique su histograma, compare los histogramas entre si. \n",
    "#   Explicar lo que se observa, si tuviera que entrenar un modelo de clasificación/detección de imágenes, \n",
    "#   considera que puede ser de utilidad tomar como ‘features’ a los histogramas?\n",
    "\n",
    "#   3-Para la imagen segmentacion.png analice el histograma de los canales RGB. Segmente algunos de los \n",
    "#   elementos presentes en la imagen (agua, cielo, tierra) y muestre, aplicando mascaras, las regiones en imágenes separadas\n",
    "#   \n",
    "#\n",
    "#\n",
    "#"
   ]
  }
 ],
 "metadata": {
  "language_info": {
   "name": "python"
  }
 },
 "nbformat": 4,
 "nbformat_minor": 2
}
